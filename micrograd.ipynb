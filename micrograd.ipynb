{
 "cells": [
  {
   "cell_type": "code",
   "execution_count": 8,
   "metadata": {},
   "outputs": [],
   "source": [
    "import matplotlib.pyplot as plt\n",
    "import numpy as np\n",
    "import math\n",
    "%matplotlib inline"
   ]
  },
  {
   "cell_type": "code",
   "execution_count": 9,
   "metadata": {},
   "outputs": [],
   "source": [
    "def f(x):\n",
    "    return 3*x**2 - 4*x + 5"
   ]
  },
  {
   "cell_type": "code",
   "execution_count": 10,
   "metadata": {},
   "outputs": [
    {
     "data": {
      "text/plain": [
       "[<matplotlib.lines.Line2D at 0x7f62693afdf0>]"
      ]
     },
     "execution_count": 10,
     "metadata": {},
     "output_type": "execute_result"
    },
    {
     "data": {
      "image/png": "[encoded data removed]",
      "text/plain": [
       "<Figure size 640x480 with 1 Axes>"
      ]
     },
     "metadata": {},
     "output_type": "display_data"
    }
   ],
   "source": [
    "xs = np.arange(-5,5,0.2)\n",
    "ys = f(xs)\n",
    "\n",
    "plt.plot(xs, ys)"
   ]
  },
  {
   "cell_type": "code",
   "execution_count": 11,
   "metadata": {},
   "outputs": [],
   "source": [
    "a = 2.0\n",
    "b = -3.0\n",
    "c = 10.0\n",
    "\n",
    "d = a * b + c\n",
    "\n"
   ]
  },
  {
   "cell_type": "code",
   "execution_count": 12,
   "metadata": {},
   "outputs": [
    {
     "name": "stdout",
     "output_type": "stream",
     "text": [
      "2.0000000000042206\n"
     ]
    }
   ],
   "source": [
    "h = 0.0001\n",
    "\n",
    "d1 = a * b +c\n",
    "b += h\n",
    "d2 = a * b + c\n",
    "\n",
    "print((d2 - d1) /h)"
   ]
  },
  {
   "cell_type": "markdown",
   "metadata": {},
   "source": [
    "The neural network is a huge mathematical expression. That is why need a datastructure to hold it. Below is the basic structure of the said architecture."
   ]
  },
  {
   "cell_type": "code",
   "execution_count": 56,
   "metadata": {},
   "outputs": [
    {
     "data": {
      "text/plain": [
       "Value(data = -8.0)"
      ]
     },
     "execution_count": 56,
     "metadata": {},
     "output_type": "execute_result"
    }
   ],
   "source": [
    "class Value:\n",
    "\n",
    "    def __init__(self, data, _children = (), _op = '', label = ''):\n",
    "        self.data = data\n",
    "        self.grad = 0.0\n",
    "        self._prev = set(_children)\n",
    "        self._op = _op\n",
    "        self.label = label\n",
    "\n",
    "    def __repr__(self):\n",
    "        return f\"Value(data = {self.data})\"\n",
    "\n",
    "    def __add__(self, other):\n",
    "        out = Value(self.data + other.data, (self, other), '+' )\n",
    "        return out\n",
    "    \n",
    "    def __mul__(self, other):\n",
    "        out = Value(self.data * other.data, (self, other), '*' )\n",
    "        return out\n",
    "\n",
    "\n",
    "a = Value(2.0, label = 'a')\n",
    "b = Value(-3.0, label = 'b')\n",
    "c = Value(10.0 , label = 'c')\n",
    "e = a *b ; e.label = 'e' \n",
    "d = e + c ; d.label = 'd'\n",
    "f = Value(-2.0, label = 'f')\n",
    "L = d * f; L.label = 'L'\n",
    "L"
   ]
  },
  {
   "cell_type": "markdown",
   "metadata": {},
   "source": [
    "#### Graphviz is a graph visualization library"
   ]
  },
  {
   "cell_type": "code",
   "execution_count": 57,
   "metadata": {},
   "outputs": [],
   "source": [
    "from graphviz import Digraph\n",
    "\n",
    "def trace(root):\n",
    "  # builds a set of all nodes and edges in a graph\n",
    "  nodes, edges = set(), set()\n",
    "  def build(v):\n",
    "    if v not in nodes:\n",
    "      nodes.add(v)\n",
    "      for child in v._prev:\n",
    "        edges.add((child, v))\n",
    "        build(child)\n",
    "  build(root)\n",
    "  return nodes, edges\n",
    "\n",
    "def draw_dot(root):\n",
    "  dot = Digraph(format='svg', graph_attr={'rankdir': 'LR'}) # LR = left to right\n",
    "  \n",
    "  nodes, edges = trace(root)\n",
    "  for n in nodes:\n",
    "    uid = str(id(n))\n",
    "    # for any value in the graph, create a rectangular ('record') node for it\n",
    "    dot.node(name = uid, label = \"%s | {data %.4f} | grad %.4f\" % (n.label, n.data, n.grad), shape='record')\n",
    "    if n._op:\n",
    "      # if this value is a result of some operation, create an op node for it\n",
    "      dot.node(name = uid + n._op, label = n._op)\n",
    "      # and connect this node to it\n",
    "      dot.edge(uid + n._op, uid)\n",
    "\n",
    "  for n1, n2 in edges:\n",
    "    # connect n1 to the op node of n2\n",
    "    dot.edge(str(id(n1)), str(id(n2)) + n2._op)\n",
    "\n",
    "  return dot"
   ]
  },
  {
   "cell_type": "code",
   "execution_count": 58,
   "metadata": {},
   "outputs": [
    {
     "data": {
      "image/svg+xml": [
       "<?xml version=\"1.0\" encoding=\"UTF-8\" standalone=\"no\"?>\n",
       "<!DOCTYPE svg PUBLIC \"-//W3C//DTD SVG 1.1//EN\"\n",
       " \"http://www.w3.org/Graphics/SVG/1.1/DTD/svg11.dtd\">\n",
       "<!-- Generated by graphviz version 2.50.0 (0)\n",
       " -->\n",
       "<!-- Pages: 1 -->\n",
       "<svg width=\"818pt\" height=\"254pt\"\n",
       " viewBox=\"0.00 0.00 818.00 254.00\" xmlns=\"http://www.w3.org/2000/svg\" xmlns:xlink=\"http://www.w3.org/1999/xlink\">\n",
       "<g id=\"graph0\" class=\"graph\" transform=\"scale(1 1) rotate(0) translate(4 250)\">\n",
       "<polygon fill=\"white\" stroke=\"transparent\" points=\"-4,4 -4,-250 814,-250 814,4 -4,4\"/>\n",
       "<!-- 140060613131280 -->\n",
       "<g id=\"node1\" class=\"node\">\n",
       "<title>140060613131280</title>\n",
       "<polygon fill=\"none\" stroke=\"black\" points=\"471.5,-88.5 471.5,-157.5 575.5,-157.5 575.5,-88.5 471.5,-88.5\"/>\n",
       "<text text-anchor=\"middle\" x=\"523.5\" y=\"-142.3\" font-family=\"Times,serif\" font-size=\"14.00\">d</text>\n",
       "<polyline fill=\"none\" stroke=\"black\" points=\"471.5,-134.5 575.5,-134.5 \"/>\n",
       "<text text-anchor=\"middle\" x=\"523.5\" y=\"-119.3\" font-family=\"Times,serif\" font-size=\"14.00\">data 4.0000</text>\n",
       "<polyline fill=\"none\" stroke=\"black\" points=\"471.5,-111.5 575.5,-111.5 \"/>\n",
       "<text text-anchor=\"middle\" x=\"523.5\" y=\"-96.3\" font-family=\"Times,serif\" font-size=\"14.00\">grad 0.0000</text>\n",
       "</g>\n",
       "<!-- 140060613127728* -->\n",
       "<g id=\"node4\" class=\"node\">\n",
       "<title>140060613127728*</title>\n",
       "<ellipse fill=\"none\" stroke=\"black\" cx=\"640\" cy=\"-167\" rx=\"27\" ry=\"18\"/>\n",
       "<text text-anchor=\"middle\" x=\"640\" y=\"-163.3\" font-family=\"Times,serif\" font-size=\"14.00\">*</text>\n",
       "</g>\n",
       "<!-- 140060613131280&#45;&gt;140060613127728* -->\n",
       "<g id=\"edge4\" class=\"edge\">\n",
       "<title>140060613131280&#45;&gt;140060613127728*</title>\n",
       "<path fill=\"none\" stroke=\"black\" d=\"M575.72,-142.68C586.24,-146.73 597.03,-150.87 606.66,-154.57\"/>\n",
       "<polygon fill=\"black\" stroke=\"black\" points=\"605.62,-157.92 616.21,-158.24 608.13,-151.39 605.62,-157.92\"/>\n",
       "</g>\n",
       "<!-- 140060613131280+ -->\n",
       "<g id=\"node2\" class=\"node\">\n",
       "<title>140060613131280+</title>\n",
       "<ellipse fill=\"none\" stroke=\"black\" cx=\"407\" cy=\"-123\" rx=\"27\" ry=\"18\"/>\n",
       "<text text-anchor=\"middle\" x=\"407\" y=\"-119.3\" font-family=\"Times,serif\" font-size=\"14.00\">+</text>\n",
       "</g>\n",
       "<!-- 140060613131280+&#45;&gt;140060613131280 -->\n",
       "<g id=\"edge1\" class=\"edge\">\n",
       "<title>140060613131280+&#45;&gt;140060613131280</title>\n",
       "<path fill=\"none\" stroke=\"black\" d=\"M434.27,-123C442.32,-123 451.54,-123 460.91,-123\"/>\n",
       "<polygon fill=\"black\" stroke=\"black\" points=\"461.09,-126.5 471.09,-123 461.09,-119.5 461.09,-126.5\"/>\n",
       "</g>\n",
       "<!-- 140060613127728 -->\n",
       "<g id=\"node3\" class=\"node\">\n",
       "<title>140060613127728</title>\n",
       "<polygon fill=\"none\" stroke=\"black\" points=\"703,-132.5 703,-201.5 810,-201.5 810,-132.5 703,-132.5\"/>\n",
       "<text text-anchor=\"middle\" x=\"756.5\" y=\"-186.3\" font-family=\"Times,serif\" font-size=\"14.00\">L</text>\n",
       "<polyline fill=\"none\" stroke=\"black\" points=\"703,-178.5 810,-178.5 \"/>\n",
       "<text text-anchor=\"middle\" x=\"756.5\" y=\"-163.3\" font-family=\"Times,serif\" font-size=\"14.00\">data &#45;8.0000</text>\n",
       "<polyline fill=\"none\" stroke=\"black\" points=\"703,-155.5 810,-155.5 \"/>\n",
       "<text text-anchor=\"middle\" x=\"756.5\" y=\"-140.3\" font-family=\"Times,serif\" font-size=\"14.00\">grad 0.0000</text>\n",
       "</g>\n",
       "<!-- 140060613127728*&#45;&gt;140060613127728 -->\n",
       "<g id=\"edge2\" class=\"edge\">\n",
       "<title>140060613127728*&#45;&gt;140060613127728</title>\n",
       "<path fill=\"none\" stroke=\"black\" d=\"M667.27,-167C674.94,-167 683.68,-167 692.61,-167\"/>\n",
       "<polygon fill=\"black\" stroke=\"black\" points=\"692.71,-170.5 702.71,-167 692.71,-163.5 692.71,-170.5\"/>\n",
       "</g>\n",
       "<!-- 140060648607312 -->\n",
       "<g id=\"node5\" class=\"node\">\n",
       "<title>140060648607312</title>\n",
       "<polygon fill=\"none\" stroke=\"black\" points=\"1.5,-88.5 1.5,-157.5 105.5,-157.5 105.5,-88.5 1.5,-88.5\"/>\n",
       "<text text-anchor=\"middle\" x=\"53.5\" y=\"-142.3\" font-family=\"Times,serif\" font-size=\"14.00\">a</text>\n",
       "<polyline fill=\"none\" stroke=\"black\" points=\"1.5,-134.5 105.5,-134.5 \"/>\n",
       "<text text-anchor=\"middle\" x=\"53.5\" y=\"-119.3\" font-family=\"Times,serif\" font-size=\"14.00\">data 2.0000</text>\n",
       "<polyline fill=\"none\" stroke=\"black\" points=\"1.5,-111.5 105.5,-111.5 \"/>\n",
       "<text text-anchor=\"middle\" x=\"53.5\" y=\"-96.3\" font-family=\"Times,serif\" font-size=\"14.00\">grad 0.0000</text>\n",
       "</g>\n",
       "<!-- 140060613125088* -->\n",
       "<g id=\"node10\" class=\"node\">\n",
       "<title>140060613125088*</title>\n",
       "<ellipse fill=\"none\" stroke=\"black\" cx=\"170\" cy=\"-79\" rx=\"27\" ry=\"18\"/>\n",
       "<text text-anchor=\"middle\" x=\"170\" y=\"-75.3\" font-family=\"Times,serif\" font-size=\"14.00\">*</text>\n",
       "</g>\n",
       "<!-- 140060648607312&#45;&gt;140060613125088* -->\n",
       "<g id=\"edge5\" class=\"edge\">\n",
       "<title>140060648607312&#45;&gt;140060613125088*</title>\n",
       "<path fill=\"none\" stroke=\"black\" d=\"M105.72,-103.32C116.24,-99.27 127.03,-95.13 136.66,-91.43\"/>\n",
       "<polygon fill=\"black\" stroke=\"black\" points=\"138.13,-94.61 146.21,-87.76 135.62,-88.08 138.13,-94.61\"/>\n",
       "</g>\n",
       "<!-- 140060647512656 -->\n",
       "<g id=\"node6\" class=\"node\">\n",
       "<title>140060647512656</title>\n",
       "<polygon fill=\"none\" stroke=\"black\" points=\"0,-0.5 0,-69.5 107,-69.5 107,-0.5 0,-0.5\"/>\n",
       "<text text-anchor=\"middle\" x=\"53.5\" y=\"-54.3\" font-family=\"Times,serif\" font-size=\"14.00\">b</text>\n",
       "<polyline fill=\"none\" stroke=\"black\" points=\"0,-46.5 107,-46.5 \"/>\n",
       "<text text-anchor=\"middle\" x=\"53.5\" y=\"-31.3\" font-family=\"Times,serif\" font-size=\"14.00\">data &#45;3.0000</text>\n",
       "<polyline fill=\"none\" stroke=\"black\" points=\"0,-23.5 107,-23.5 \"/>\n",
       "<text text-anchor=\"middle\" x=\"53.5\" y=\"-8.3\" font-family=\"Times,serif\" font-size=\"14.00\">grad 0.0000</text>\n",
       "</g>\n",
       "<!-- 140060647512656&#45;&gt;140060613125088* -->\n",
       "<g id=\"edge7\" class=\"edge\">\n",
       "<title>140060647512656&#45;&gt;140060613125088*</title>\n",
       "<path fill=\"none\" stroke=\"black\" d=\"M107.06,-55.2C117.16,-59.08 127.46,-63.04 136.68,-66.58\"/>\n",
       "<polygon fill=\"black\" stroke=\"black\" points=\"135.62,-69.92 146.21,-70.24 138.13,-63.39 135.62,-69.92\"/>\n",
       "</g>\n",
       "<!-- 140060613131376 -->\n",
       "<g id=\"node7\" class=\"node\">\n",
       "<title>140060613131376</title>\n",
       "<polygon fill=\"none\" stroke=\"black\" points=\"233,-132.5 233,-201.5 344,-201.5 344,-132.5 233,-132.5\"/>\n",
       "<text text-anchor=\"middle\" x=\"288.5\" y=\"-186.3\" font-family=\"Times,serif\" font-size=\"14.00\">c</text>\n",
       "<polyline fill=\"none\" stroke=\"black\" points=\"233,-178.5 344,-178.5 \"/>\n",
       "<text text-anchor=\"middle\" x=\"288.5\" y=\"-163.3\" font-family=\"Times,serif\" font-size=\"14.00\">data 10.0000</text>\n",
       "<polyline fill=\"none\" stroke=\"black\" points=\"233,-155.5 344,-155.5 \"/>\n",
       "<text text-anchor=\"middle\" x=\"288.5\" y=\"-140.3\" font-family=\"Times,serif\" font-size=\"14.00\">grad 0.0000</text>\n",
       "</g>\n",
       "<!-- 140060613131376&#45;&gt;140060613131280+ -->\n",
       "<g id=\"edge8\" class=\"edge\">\n",
       "<title>140060613131376&#45;&gt;140060613131280+</title>\n",
       "<path fill=\"none\" stroke=\"black\" d=\"M344.34,-146.29C354.39,-142.49 364.58,-138.64 373.71,-135.2\"/>\n",
       "<polygon fill=\"black\" stroke=\"black\" points=\"375.01,-138.44 383.13,-131.64 372.54,-131.9 375.01,-138.44\"/>\n",
       "</g>\n",
       "<!-- 140060613121632 -->\n",
       "<g id=\"node8\" class=\"node\">\n",
       "<title>140060613121632</title>\n",
       "<polygon fill=\"none\" stroke=\"black\" points=\"470,-176.5 470,-245.5 577,-245.5 577,-176.5 470,-176.5\"/>\n",
       "<text text-anchor=\"middle\" x=\"523.5\" y=\"-230.3\" font-family=\"Times,serif\" font-size=\"14.00\">f</text>\n",
       "<polyline fill=\"none\" stroke=\"black\" points=\"470,-222.5 577,-222.5 \"/>\n",
       "<text text-anchor=\"middle\" x=\"523.5\" y=\"-207.3\" font-family=\"Times,serif\" font-size=\"14.00\">data &#45;2.0000</text>\n",
       "<polyline fill=\"none\" stroke=\"black\" points=\"470,-199.5 577,-199.5 \"/>\n",
       "<text text-anchor=\"middle\" x=\"523.5\" y=\"-184.3\" font-family=\"Times,serif\" font-size=\"14.00\">grad 0.0000</text>\n",
       "</g>\n",
       "<!-- 140060613121632&#45;&gt;140060613127728* -->\n",
       "<g id=\"edge6\" class=\"edge\">\n",
       "<title>140060613121632&#45;&gt;140060613127728*</title>\n",
       "<path fill=\"none\" stroke=\"black\" d=\"M577.06,-190.8C587.16,-186.92 597.46,-182.96 606.68,-179.42\"/>\n",
       "<polygon fill=\"black\" stroke=\"black\" points=\"608.13,-182.61 616.21,-175.76 605.62,-176.08 608.13,-182.61\"/>\n",
       "</g>\n",
       "<!-- 140060613125088 -->\n",
       "<g id=\"node9\" class=\"node\">\n",
       "<title>140060613125088</title>\n",
       "<polygon fill=\"none\" stroke=\"black\" points=\"235,-44.5 235,-113.5 342,-113.5 342,-44.5 235,-44.5\"/>\n",
       "<text text-anchor=\"middle\" x=\"288.5\" y=\"-98.3\" font-family=\"Times,serif\" font-size=\"14.00\">e</text>\n",
       "<polyline fill=\"none\" stroke=\"black\" points=\"235,-90.5 342,-90.5 \"/>\n",
       "<text text-anchor=\"middle\" x=\"288.5\" y=\"-75.3\" font-family=\"Times,serif\" font-size=\"14.00\">data &#45;6.0000</text>\n",
       "<polyline fill=\"none\" stroke=\"black\" points=\"235,-67.5 342,-67.5 \"/>\n",
       "<text text-anchor=\"middle\" x=\"288.5\" y=\"-52.3\" font-family=\"Times,serif\" font-size=\"14.00\">grad 0.0000</text>\n",
       "</g>\n",
       "<!-- 140060613125088&#45;&gt;140060613131280+ -->\n",
       "<g id=\"edge9\" class=\"edge\">\n",
       "<title>140060613125088&#45;&gt;140060613131280+</title>\n",
       "<path fill=\"none\" stroke=\"black\" d=\"M342.3,-98.94C352.93,-102.96 363.81,-107.07 373.5,-110.72\"/>\n",
       "<polygon fill=\"black\" stroke=\"black\" points=\"372.51,-114.09 383.1,-114.35 374.99,-107.55 372.51,-114.09\"/>\n",
       "</g>\n",
       "<!-- 140060613125088*&#45;&gt;140060613125088 -->\n",
       "<g id=\"edge3\" class=\"edge\">\n",
       "<title>140060613125088*&#45;&gt;140060613125088</title>\n",
       "<path fill=\"none\" stroke=\"black\" d=\"M197.14,-79C205.41,-79 214.93,-79 224.62,-79\"/>\n",
       "<polygon fill=\"black\" stroke=\"black\" points=\"224.74,-82.5 234.74,-79 224.74,-75.5 224.74,-82.5\"/>\n",
       "</g>\n",
       "</g>\n",
       "</svg>\n"
      ],
      "text/plain": [
       "<graphviz.graphs.Digraph at 0x7f62671115a0>"
      ]
     },
     "execution_count": 58,
     "metadata": {},
     "output_type": "execute_result"
    }
   ],
   "source": [
    "draw_dot(L)"
   ]
  },
  {
   "cell_type": "markdown",
   "metadata": {},
   "source": [
    "So, the involvement of each value creates a different layer."
   ]
  },
  {
   "cell_type": "code",
   "execution_count": 64,
   "metadata": {},
   "outputs": [
    {
     "name": "stdout",
     "output_type": "stream",
     "text": [
      "1.000000000000334\n"
     ]
    }
   ],
   "source": [
    "def lol():\n",
    "\n",
    "    h = 0.001\n",
    "\n",
    "    a = Value(2.0, label = 'a')\n",
    "    b = Value(-3.0, label = 'b')\n",
    "    c = Value(10.0 , label = 'c')\n",
    "    e = a *b ; e.label = 'e' \n",
    "    d = e + c ; d.label = 'd'\n",
    "    f = Value(-2.0, label = 'f')\n",
    "    L = d * f; L.label = 'L'\n",
    "    L1 = L.data\n",
    "\n",
    "    a = Value(2.0, label = 'a')\n",
    "    b = Value(-3.0, label = 'b')\n",
    "    c = Value(10.0 , label = 'c')\n",
    "    e = a *b ; e.label = 'e' \n",
    "    d = e + c ; d.label = 'd'\n",
    "    f = Value(-2.0, label = 'f')\n",
    "    L = d * f; L.label = 'L'\n",
    "    L2 = L.data + h\n",
    "\n",
    "    print((L2 - L1)/h )\n",
    "\n",
    "lol()\n",
    "\n"
   ]
  },
  {
   "cell_type": "code",
   "execution_count": null,
   "metadata": {},
   "outputs": [],
   "source": []
  }
 ],
 "metadata": {
  "kernelspec": {
   "display_name": ".venv",
   "language": "python",
   "name": "python3"
  },
  "language_info": {
   "codemirror_mode": {
    "name": "ipython",
    "version": 3
   },
   "file_extension": ".py",
   "mimetype": "text/x-python",
   "name": "python",
   "nbconvert_exporter": "python",
   "pygments_lexer": "ipython3",
   "version": "3.10.12"
  },
  "orig_nbformat": 4
 },
 "nbformat": 4,
 "nbformat_minor": 2
}
